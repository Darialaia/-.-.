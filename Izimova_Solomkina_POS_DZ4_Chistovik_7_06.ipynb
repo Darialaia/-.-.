{
 "cells": [
  {
   "cell_type": "markdown",
   "metadata": {
    "colab_type": "text",
    "id": "-JiYzf1hw_dm"
   },
   "source": [
    "# Домашнее задание 4. Работа со своими данными. \n",
    "\n",
    "### Домашнее задание сдается в ЛМС двумя файлами - этот блокнот, который вы дополните, и ваш датасет, с которым вы работаете.\n",
    "### Если файл с данными не приложен или код на нем не работает минус 2 балла.\n",
    "\n",
    "### Задание делается в парах (в которых составлялись гипотезы), файл может быть прислан одним человеком из мини-группы.\n",
    "\n",
    "### Дедлайн 10 июня 23.59 для всех групп.\n",
    "### Ранний дедлайн 7 июня 23.59 + 1 балл к оценке\n",
    "\n",
    "## Дополнительный баллы за выполнение заданий\n",
    "\n",
    "* Дополнительный балл может быть получен только один. \n",
    "* Если у вас есть пропущенные значения или вашу зависимую переменную нужно перевести в категориальные - вам нужно обязательно сделать один из этих пунктов или оба. Если вы при этом не хотите дополнительные баллы, то напишите семинаристу и мы скажет, какие части других пунктов вам можно не делать.\n",
    "* Если у вас нет пропущенных значений и вам нечего конвертировать в категориальную переменную, но вы хотите доп. балл - вы можете сделать задание 7 (оно необязательно должно соотноситься с вашей гипотезой).\n",
    "\n",
    "## Задания\n",
    "0. \n",
    "Выгрузите данные в excel или в гугл таблицу (не корректируйте общую!). Удалите колонки, с которыми не будете работать. Оставьте все общие вопросы, ваши вопросы и, по желанию, некоторые вопросы ваших коллег, если они релевантны вашей гипотезе. Перемеименуйте колонки в короткие имена, с которыми вам будет удобно работать и pandas, и не забудьте сделать для себя codebook с расшифровкой вопросов и шкал. Сохраните ваш файл в .csv. \n",
    "\n",
    "\n",
    "**1.Оформление (1,5 балл)**\n",
    "\n",
    "Файл должен быть оформлен в markdown с заголовками для каждого блока и с выделениями внутри текста и списками при необходимости. \n",
    "\n",
    "В первой ячейке после этой напишите ваши фамилии и номер группы.\n",
    "Ниже напишите гипотезу, с которой вы работаете и короткое обоснование (можете взять из файла, который делали к опросу, если к гипотезе не было комментариев для правок.)\n",
    "Напишите список переменных в вашем датасете по образцу (см. ниже). \n",
    "\n",
    "* **название переменной** - что измеряете, тип (количественная дискретная, категориальная и т.д.), шкала.\n",
    "\n",
    "В конце файла после всех заданий сделайте общий вывод, поддерживается ли ваша гипотеза собранными данными.\n",
    "\n",
    "\n",
    "**2. Загрузка файла и проверка на пропущенные значения (0.5 балла)**\n",
    "\n",
    "Загрузите файл в датафрейм пандас.\n",
    "Проверьте все ваши переменные на наличие пропущенных значений. \n",
    "\n",
    " *2.1. Дополнительный балл на выбор (1 балл)* \n",
    " \n",
    " Если есть пропуски - заполните их. Прокомментируйте выбор стратегии. \n",
    " \n",
    " \n",
    "**3. Исследование зависимой переменной (1 балл)**\n",
    "\n",
    "* Посмотрите дексриптивные статистики для вашей целевой переменной или переменных (центральную тенденцию, меру разброса (если применимо), минимум и максимум). \n",
    "* Постройте уместный график, чтобы оценить ее распределение.\n",
    "* Прокомментируйте.\n",
    "\n",
    " *3.1. Дополнительный балл на выбор (1 балл)* \n",
    " \n",
    " Если ваша целевая непрерывная - сначала перекодируйте ее в катергориальный признак.\n",
    "\n",
    "**4. Исследование независимых переменных (минимум 6 переменных) (3 балла)**\n",
    "\n",
    "* Посмотрите дексриптивные статистики для ваших независимых переменных (центральную тенденцию меру разброса (если применимо), минимум и максимум).  \n",
    "* Постройте уместные графики, чтобы оценить их распределение.\n",
    "* Прокомментируйте.\n",
    "\n",
    "**5. Исследование связи переменных (2 балла)**\n",
    "\n",
    "* Постройте пивотальные таблицы попарно для независимых и зависимой переменной (минимум для трех независимых переменных), как мы делали для Титаника (data.groupby('Survived')['Sex'].value_counts()).\n",
    "* Оцените распределение значений целевой переменной по категориям независимых переменных, напишите вывод, поддерживается ли ваша гипотеза.\n",
    "\n",
    "\n",
    "**6. Исследование независимых переменных (минимум 3 переменные) (2 балла)**\n",
    "\n",
    "* Постройте мультиваритивный график рассеяния для вашей зависимой и трех независимых переменных. Все три независимые переменные должны отличаться от переменных в задании пять.\n",
    "Если мультивариативный график плохо работает для ваших данных (все переменные категориальные c маленьким разбросом и наблюдения накладываются друг на друга, например) - напишите семинаристу, мы предложим вам вариант действий.\n",
    "\n",
    "* Сделайте вывод, поддерживают ли собранные данные вашу гипотезу.\n",
    "\n",
    " *7. Дополнительный балл на выбор (1 балл)* \n",
    "Напишите функцию, которая перекодирует любую порядковую переменную из словесной шкалы в числовую (или наоборот). \n",
    "Это не должна быть функция pandas, а функция, написанная вами, создающая новую переменную по определенным вами правилам (переменная может быть любая из всего датасета).\n",
    "\n"
   ]
  },
  {
   "cell_type": "markdown",
   "metadata": {
    "colab": {},
    "colab_type": "code",
    "id": "9fkfnCglw_dp"
   },
   "source": [
    "### Изимова и Соломкина. Группа БСЦ181.\n",
    "**Гипотеза**: образование по обмену даёт больше знаний, чем просто обучение в своем университете. \n",
    "Мы выбрали эту тему, так как по данным ФОМ только 23% россиян считают, что образование в российских вузах хуже, чем в зарубежных. Поэтому нас заинтересовало, как относятся российские студенты к возможности академической мобильности."
   ]
  },
  {
   "cell_type": "code",
   "execution_count": 1,
   "metadata": {},
   "outputs": [
    {
     "data": {
      "text/html": [
       "<div>\n",
       "<style scoped>\n",
       "    .dataframe tbody tr th:only-of-type {\n",
       "        vertical-align: middle;\n",
       "    }\n",
       "\n",
       "    .dataframe tbody tr th {\n",
       "        vertical-align: top;\n",
       "    }\n",
       "\n",
       "    .dataframe thead th {\n",
       "        text-align: right;\n",
       "    }\n",
       "</style>\n",
       "<table border=\"1\" class=\"dataframe\">\n",
       "  <thead>\n",
       "    <tr style=\"text-align: right;\">\n",
       "      <th></th>\n",
       "      <th>sex</th>\n",
       "      <th>year</th>\n",
       "      <th>eduсation</th>\n",
       "      <th>place</th>\n",
       "      <th>salary</th>\n",
       "      <th>mark</th>\n",
       "      <th>been</th>\n",
       "      <th>plan</th>\n",
       "      <th>language</th>\n",
       "      <th>quality</th>\n",
       "      <th>career</th>\n",
       "      <th>meeting</th>\n",
       "      <th>country</th>\n",
       "      <th>culture</th>\n",
       "      <th>personal</th>\n",
       "      <th>valuable</th>\n",
       "      <th>performance</th>\n",
       "    </tr>\n",
       "  </thead>\n",
       "  <tbody>\n",
       "    <tr>\n",
       "      <th>0</th>\n",
       "      <td>Мужской</td>\n",
       "      <td>2000</td>\n",
       "      <td>Высшее (студент)</td>\n",
       "      <td>Город (региональный центр, не миллионник)</td>\n",
       "      <td>от 60,001 до 70,000 рублей</td>\n",
       "      <td>Отлично</td>\n",
       "      <td>Нет</td>\n",
       "      <td>Да, планирую</td>\n",
       "      <td>5</td>\n",
       "      <td>7</td>\n",
       "      <td>6</td>\n",
       "      <td>1</td>\n",
       "      <td>3</td>\n",
       "      <td>4</td>\n",
       "      <td>2</td>\n",
       "      <td>Скорее нет, чем да</td>\n",
       "      <td>Улучшится</td>\n",
       "    </tr>\n",
       "    <tr>\n",
       "      <th>1</th>\n",
       "      <td>Женский</td>\n",
       "      <td>2000</td>\n",
       "      <td>Средняя школа (10, сейчас 11 классов)</td>\n",
       "      <td>Город</td>\n",
       "      <td>от 100,001 до 150,000 рублей</td>\n",
       "      <td>Хорошо</td>\n",
       "      <td>Нет</td>\n",
       "      <td>Да, планирую</td>\n",
       "      <td>5</td>\n",
       "      <td>5</td>\n",
       "      <td>7</td>\n",
       "      <td>4</td>\n",
       "      <td>1</td>\n",
       "      <td>1</td>\n",
       "      <td>2</td>\n",
       "      <td>Скорее да, чем нет</td>\n",
       "      <td>Скорее улучшится</td>\n",
       "    </tr>\n",
       "    <tr>\n",
       "      <th>2</th>\n",
       "      <td>Женский</td>\n",
       "      <td>2000</td>\n",
       "      <td>Средняя школа (10, сейчас 11 классов)</td>\n",
       "      <td>Город</td>\n",
       "      <td>от 40,001 до 50,000 рублей</td>\n",
       "      <td>Хорошо</td>\n",
       "      <td>Нет</td>\n",
       "      <td>Затрудняюсь ответить</td>\n",
       "      <td>5</td>\n",
       "      <td>2</td>\n",
       "      <td>6</td>\n",
       "      <td>4</td>\n",
       "      <td>6</td>\n",
       "      <td>6</td>\n",
       "      <td>7</td>\n",
       "      <td>Скорее да, чем нет</td>\n",
       "      <td>Не поменяется</td>\n",
       "    </tr>\n",
       "    <tr>\n",
       "      <th>3</th>\n",
       "      <td>Женский</td>\n",
       "      <td>2001</td>\n",
       "      <td>Высшее (студент)</td>\n",
       "      <td>Село</td>\n",
       "      <td>от 100,001 до 150,000 рублей</td>\n",
       "      <td>В основном \"отлично\", иногда \"хорошо\"</td>\n",
       "      <td>Да, 1 семестр</td>\n",
       "      <td>Нет, не планирую</td>\n",
       "      <td>1</td>\n",
       "      <td>2</td>\n",
       "      <td>3</td>\n",
       "      <td>5</td>\n",
       "      <td>3</td>\n",
       "      <td>3</td>\n",
       "      <td>3</td>\n",
       "      <td>Скорее нет, чем да</td>\n",
       "      <td>Скорее улучшится</td>\n",
       "    </tr>\n",
       "    <tr>\n",
       "      <th>4</th>\n",
       "      <td>Женский</td>\n",
       "      <td>2000</td>\n",
       "      <td>Высшее (студент)</td>\n",
       "      <td>Город (региональный центр, не миллионник)</td>\n",
       "      <td>от 25,001 до 30,000 рублей</td>\n",
       "      <td>Отлично</td>\n",
       "      <td>Нет</td>\n",
       "      <td>Затрудняюсь ответить</td>\n",
       "      <td>3</td>\n",
       "      <td>2</td>\n",
       "      <td>5</td>\n",
       "      <td>6</td>\n",
       "      <td>1</td>\n",
       "      <td>4</td>\n",
       "      <td>7</td>\n",
       "      <td>Да</td>\n",
       "      <td>Не поменяется</td>\n",
       "    </tr>\n",
       "  </tbody>\n",
       "</table>\n",
       "</div>"
      ],
      "text/plain": [
       "       sex  year                              eduсation  \\\n",
       "0  Мужской  2000                       Высшее (студент)   \n",
       "1  Женский  2000  Средняя школа (10, сейчас 11 классов)   \n",
       "2  Женский  2000  Средняя школа (10, сейчас 11 классов)   \n",
       "3  Женский  2001                       Высшее (студент)   \n",
       "4  Женский  2000                       Высшее (студент)   \n",
       "\n",
       "                                       place                        salary  \\\n",
       "0  Город (региональный центр, не миллионник)    от 60,001 до 70,000 рублей   \n",
       "1                                      Город  от 100,001 до 150,000 рублей   \n",
       "2                                      Город    от 40,001 до 50,000 рублей   \n",
       "3                                       Село  от 100,001 до 150,000 рублей   \n",
       "4  Город (региональный центр, не миллионник)    от 25,001 до 30,000 рублей   \n",
       "\n",
       "                                    mark           been                  plan  \\\n",
       "0                                Отлично            Нет          Да, планирую   \n",
       "1                                 Хорошо            Нет          Да, планирую   \n",
       "2                                 Хорошо            Нет  Затрудняюсь ответить   \n",
       "3  В основном \"отлично\", иногда \"хорошо\"  Да, 1 семестр      Нет, не планирую   \n",
       "4                                Отлично            Нет  Затрудняюсь ответить   \n",
       "\n",
       "   language  quality  career  meeting  country  culture  personal  \\\n",
       "0         5        7       6        1        3        4         2   \n",
       "1         5        5       7        4        1        1         2   \n",
       "2         5        2       6        4        6        6         7   \n",
       "3         1        2       3        5        3        3         3   \n",
       "4         3        2       5        6        1        4         7   \n",
       "\n",
       "             valuable       performance  \n",
       "0  Скорее нет, чем да         Улучшится  \n",
       "1  Скорее да, чем нет  Скорее улучшится  \n",
       "2  Скорее да, чем нет     Не поменяется  \n",
       "3  Скорее нет, чем да  Скорее улучшится  \n",
       "4                  Да     Не поменяется  "
      ]
     },
     "execution_count": 1,
     "metadata": {},
     "output_type": "execute_result"
    }
   ],
   "source": [
    "import pandas as pd\n",
    "import matplotlib.pyplot as plt\n",
    "import seaborn as sns\n",
    "%matplotlib inline\n",
    "edu = pd.read_csv('POS_Solomkina_Izimova.csv', sep=';')\n",
    "edu.head()"
   ]
  },
  {
   "cell_type": "code",
   "execution_count": 2,
   "metadata": {},
   "outputs": [
    {
     "name": "stdout",
     "output_type": "stream",
     "text": [
      "<class 'pandas.core.frame.DataFrame'>\n",
      "RangeIndex: 163 entries, 0 to 162\n",
      "Data columns (total 17 columns):\n",
      "sex            163 non-null object\n",
      "year           163 non-null int64\n",
      "eduсation      163 non-null object\n",
      "place          163 non-null object\n",
      "salary         163 non-null object\n",
      "mark           163 non-null object\n",
      "been           163 non-null object\n",
      "plan           163 non-null object\n",
      "language       163 non-null int64\n",
      "quality        163 non-null int64\n",
      "career         163 non-null int64\n",
      "meeting        163 non-null int64\n",
      "country        163 non-null int64\n",
      "culture        163 non-null int64\n",
      "personal       163 non-null int64\n",
      "valuable       163 non-null object\n",
      "performance    163 non-null object\n",
      "dtypes: int64(8), object(9)\n",
      "memory usage: 21.7+ KB\n"
     ]
    }
   ],
   "source": [
    "edu.info()\n",
    "# Пропущенных значений нет"
   ]
  },
  {
   "cell_type": "markdown",
   "metadata": {},
   "source": [
    "Задание 3. Зависимая 7 переменных сравниваем их распределение для каждых столбчатых график чтобы увидеть Мода минимум и максимум"
   ]
  },
  {
   "cell_type": "code",
   "execution_count": 3,
   "metadata": {},
   "outputs": [
    {
     "data": {
      "text/html": [
       "<div>\n",
       "<style scoped>\n",
       "    .dataframe tbody tr th:only-of-type {\n",
       "        vertical-align: middle;\n",
       "    }\n",
       "\n",
       "    .dataframe tbody tr th {\n",
       "        vertical-align: top;\n",
       "    }\n",
       "\n",
       "    .dataframe thead th {\n",
       "        text-align: right;\n",
       "    }\n",
       "</style>\n",
       "<table border=\"1\" class=\"dataframe\">\n",
       "  <thead>\n",
       "    <tr style=\"text-align: right;\">\n",
       "      <th></th>\n",
       "      <th>year</th>\n",
       "      <th>language</th>\n",
       "      <th>quality</th>\n",
       "      <th>career</th>\n",
       "      <th>meeting</th>\n",
       "      <th>country</th>\n",
       "      <th>culture</th>\n",
       "      <th>personal</th>\n",
       "    </tr>\n",
       "  </thead>\n",
       "  <tbody>\n",
       "    <tr>\n",
       "      <th>count</th>\n",
       "      <td>163.000000</td>\n",
       "      <td>163.000000</td>\n",
       "      <td>163.000000</td>\n",
       "      <td>163.000000</td>\n",
       "      <td>163.000000</td>\n",
       "      <td>163.000000</td>\n",
       "      <td>163.000000</td>\n",
       "      <td>163.000000</td>\n",
       "    </tr>\n",
       "    <tr>\n",
       "      <th>mean</th>\n",
       "      <td>1976.877301</td>\n",
       "      <td>4.343558</td>\n",
       "      <td>4.466258</td>\n",
       "      <td>4.644172</td>\n",
       "      <td>4.404908</td>\n",
       "      <td>4.631902</td>\n",
       "      <td>4.441718</td>\n",
       "      <td>4.447853</td>\n",
       "    </tr>\n",
       "    <tr>\n",
       "      <th>std</th>\n",
       "      <td>204.435077</td>\n",
       "      <td>2.085755</td>\n",
       "      <td>1.957203</td>\n",
       "      <td>2.050838</td>\n",
       "      <td>1.929748</td>\n",
       "      <td>2.087461</td>\n",
       "      <td>2.021789</td>\n",
       "      <td>2.174923</td>\n",
       "    </tr>\n",
       "    <tr>\n",
       "      <th>min</th>\n",
       "      <td>99.000000</td>\n",
       "      <td>1.000000</td>\n",
       "      <td>1.000000</td>\n",
       "      <td>1.000000</td>\n",
       "      <td>1.000000</td>\n",
       "      <td>1.000000</td>\n",
       "      <td>1.000000</td>\n",
       "      <td>1.000000</td>\n",
       "    </tr>\n",
       "    <tr>\n",
       "      <th>25%</th>\n",
       "      <td>1999.000000</td>\n",
       "      <td>3.000000</td>\n",
       "      <td>3.000000</td>\n",
       "      <td>3.000000</td>\n",
       "      <td>3.000000</td>\n",
       "      <td>3.000000</td>\n",
       "      <td>3.000000</td>\n",
       "      <td>2.500000</td>\n",
       "    </tr>\n",
       "    <tr>\n",
       "      <th>50%</th>\n",
       "      <td>2000.000000</td>\n",
       "      <td>5.000000</td>\n",
       "      <td>5.000000</td>\n",
       "      <td>5.000000</td>\n",
       "      <td>5.000000</td>\n",
       "      <td>5.000000</td>\n",
       "      <td>5.000000</td>\n",
       "      <td>5.000000</td>\n",
       "    </tr>\n",
       "    <tr>\n",
       "      <th>75%</th>\n",
       "      <td>2000.000000</td>\n",
       "      <td>6.000000</td>\n",
       "      <td>6.000000</td>\n",
       "      <td>6.000000</td>\n",
       "      <td>6.000000</td>\n",
       "      <td>7.000000</td>\n",
       "      <td>6.000000</td>\n",
       "      <td>7.000000</td>\n",
       "    </tr>\n",
       "    <tr>\n",
       "      <th>max</th>\n",
       "      <td>2002.000000</td>\n",
       "      <td>7.000000</td>\n",
       "      <td>7.000000</td>\n",
       "      <td>7.000000</td>\n",
       "      <td>7.000000</td>\n",
       "      <td>7.000000</td>\n",
       "      <td>7.000000</td>\n",
       "      <td>7.000000</td>\n",
       "    </tr>\n",
       "  </tbody>\n",
       "</table>\n",
       "</div>"
      ],
      "text/plain": [
       "              year    language     quality      career     meeting  \\\n",
       "count   163.000000  163.000000  163.000000  163.000000  163.000000   \n",
       "mean   1976.877301    4.343558    4.466258    4.644172    4.404908   \n",
       "std     204.435077    2.085755    1.957203    2.050838    1.929748   \n",
       "min      99.000000    1.000000    1.000000    1.000000    1.000000   \n",
       "25%    1999.000000    3.000000    3.000000    3.000000    3.000000   \n",
       "50%    2000.000000    5.000000    5.000000    5.000000    5.000000   \n",
       "75%    2000.000000    6.000000    6.000000    6.000000    6.000000   \n",
       "max    2002.000000    7.000000    7.000000    7.000000    7.000000   \n",
       "\n",
       "          country     culture    personal  \n",
       "count  163.000000  163.000000  163.000000  \n",
       "mean     4.631902    4.441718    4.447853  \n",
       "std      2.087461    2.021789    2.174923  \n",
       "min      1.000000    1.000000    1.000000  \n",
       "25%      3.000000    3.000000    2.500000  \n",
       "50%      5.000000    5.000000    5.000000  \n",
       "75%      7.000000    6.000000    7.000000  \n",
       "max      7.000000    7.000000    7.000000  "
      ]
     },
     "execution_count": 3,
     "metadata": {},
     "output_type": "execute_result"
    }
   ],
   "source": [
    "edu.describe()"
   ]
  },
  {
   "cell_type": "markdown",
   "metadata": {},
   "source": [
    "Все независимые переменные (language, quality, career, meeting, country, culture, personal) имеют значения от 1 до 7."
   ]
  },
  {
   "cell_type": "code",
   "execution_count": 4,
   "metadata": {},
   "outputs": [
    {
     "data": {
      "text/html": [
       "<div>\n",
       "<style scoped>\n",
       "    .dataframe tbody tr th:only-of-type {\n",
       "        vertical-align: middle;\n",
       "    }\n",
       "\n",
       "    .dataframe tbody tr th {\n",
       "        vertical-align: top;\n",
       "    }\n",
       "\n",
       "    .dataframe thead th {\n",
       "        text-align: right;\n",
       "    }\n",
       "</style>\n",
       "<table border=\"1\" class=\"dataframe\">\n",
       "  <thead>\n",
       "    <tr style=\"text-align: right;\">\n",
       "      <th></th>\n",
       "      <th>language</th>\n",
       "      <th>quality</th>\n",
       "      <th>career</th>\n",
       "      <th>meeting</th>\n",
       "      <th>country</th>\n",
       "      <th>culture</th>\n",
       "      <th>personal</th>\n",
       "    </tr>\n",
       "  </thead>\n",
       "  <tbody>\n",
       "    <tr>\n",
       "      <th>0</th>\n",
       "      <td>7</td>\n",
       "      <td>7</td>\n",
       "      <td>7</td>\n",
       "      <td>7</td>\n",
       "      <td>7</td>\n",
       "      <td>7</td>\n",
       "      <td>7</td>\n",
       "    </tr>\n",
       "  </tbody>\n",
       "</table>\n",
       "</div>"
      ],
      "text/plain": [
       "   language  quality  career  meeting  country  culture  personal\n",
       "0         7        7       7        7        7        7         7"
      ]
     },
     "execution_count": 4,
     "metadata": {},
     "output_type": "execute_result"
    }
   ],
   "source": [
    "edu[['language', 'quality', 'career', 'meeting', 'country', 'culture', 'personal']].mode()"
   ]
  },
  {
   "cell_type": "markdown",
   "metadata": {},
   "source": [
    "Интересно, что наиболее частым ответом для всех категорий оказалась цифра 7, то есть максимальная важность переменной. Построим графики для каждой переменной, чтобы понять распределение оценок внутри. "
   ]
  },
  {
   "cell_type": "code",
   "execution_count": 5,
   "metadata": {},
   "outputs": [
    {
     "data": {
      "image/png": "[encoded data removed]",
      "text/plain": [
       "<Figure size 432x288 with 1 Axes>"
      ]
     },
     "metadata": {
      "needs_background": "light"
     },
     "output_type": "display_data"
    }
   ],
   "source": [
    "edu.language.hist(bins=13, color='#BC8F8F' )\n",
    "plt.grid()"
   ]
  },
  {
   "cell_type": "code",
   "execution_count": 6,
   "metadata": {},
   "outputs": [
    {
     "data": {
      "image/png": "[encoded data removed]",
      "text/plain": [
       "<Figure size 432x288 with 1 Axes>"
      ]
     },
     "metadata": {
      "needs_background": "light"
     },
     "output_type": "display_data"
    }
   ],
   "source": [
    "edu.quality.hist(bins=13, color='#FFE4E1')\n",
    "plt.grid()"
   ]
  },
  {
   "cell_type": "code",
   "execution_count": 7,
   "metadata": {},
   "outputs": [
    {
     "data": {
      "image/png": "[encoded data removed]",
      "text/plain": [
       "<Figure size 432x288 with 1 Axes>"
      ]
     },
     "metadata": {
      "needs_background": "light"
     },
     "output_type": "display_data"
    }
   ],
   "source": [
    "edu.career.hist(bins=13, color='#E9967A')\n",
    "plt.grid()"
   ]
  },
  {
   "cell_type": "code",
   "execution_count": 8,
   "metadata": {},
   "outputs": [
    {
     "data": {
      "image/png": "[encoded data removed]",
      "text/plain": [
       "<Figure size 432x288 with 1 Axes>"
      ]
     },
     "metadata": {
      "needs_background": "light"
     },
     "output_type": "display_data"
    }
   ],
   "source": [
    "edu.meeting.hist(bins=13, color='#FFDAB9')\n",
    "plt.grid()"
   ]
  },
  {
   "cell_type": "code",
   "execution_count": 9,
   "metadata": {},
   "outputs": [
    {
     "data": {
      "image/png": "[encoded data removed]",
      "text/plain": [
       "<Figure size 432x288 with 1 Axes>"
      ]
     },
     "metadata": {
      "needs_background": "light"
     },
     "output_type": "display_data"
    }
   ],
   "source": [
    "edu.country.hist(bins=13, color='#CD5C5C')\n",
    "plt.grid()"
   ]
  },
  {
   "cell_type": "code",
   "execution_count": 10,
   "metadata": {},
   "outputs": [
    {
     "data": {
      "image/png": "[encoded data removed]",
      "text/plain": [
       "<Figure size 432x288 with 1 Axes>"
      ]
     },
     "metadata": {
      "needs_background": "light"
     },
     "output_type": "display_data"
    }
   ],
   "source": [
    "edu.culture.hist(bins=13, color='#FFA07A')\n",
    "plt.grid()"
   ]
  },
  {
   "cell_type": "code",
   "execution_count": 11,
   "metadata": {},
   "outputs": [
    {
     "data": {
      "image/png": "[encoded data removed]",
      "text/plain": [
       "<Figure size 432x288 with 1 Axes>"
      ]
     },
     "metadata": {
      "needs_background": "light"
     },
     "output_type": "display_data"
    }
   ],
   "source": [
    "edu.personal.hist(bins=13, color='#FAEBD7')\n",
    "plt.grid()"
   ]
  },
  {
   "cell_type": "markdown",
   "metadata": {},
   "source": [
    "**Сделать небльшой вывод про графики**\n",
    "три переменные: был не был, хочу не хочу, доход, качество вне зависимости от страны перекодируем код внизу (был не был) три переменные!!!! "
   ]
  },
  {
   "cell_type": "code",
   "execution_count": 12,
   "metadata": {},
   "outputs": [
    {
     "data": {
      "text/plain": [
       "<matplotlib.axes._subplots.AxesSubplot at 0x21597d093c8>"
      ]
     },
     "execution_count": 12,
     "metadata": {},
     "output_type": "execute_result"
    },
    {
     "data": {
      "image/png": "[encoded data removed]",
      "text/plain": [
       "<Figure size 432x288 with 1 Axes>"
      ]
     },
     "metadata": {},
     "output_type": "display_data"
    }
   ],
   "source": [
    "edu.groupby('been').size().plot(kind = 'pie', cmap = 'Pastel1')"
   ]
  },
  {
   "cell_type": "code",
   "execution_count": 13,
   "metadata": {},
   "outputs": [
    {
     "data": {
      "text/plain": [
       "<matplotlib.axes._subplots.AxesSubplot at 0x21597d53780>"
      ]
     },
     "execution_count": 13,
     "metadata": {},
     "output_type": "execute_result"
    },
    {
     "data": {
      "image/png": "[encoded data removed]",
      "text/plain": [
       "<Figure size 432x288 with 1 Axes>"
      ]
     },
     "metadata": {
      "needs_background": "light"
     },
     "output_type": "display_data"
    }
   ],
   "source": [
    "edu.groupby('plan').size().plot(kind = 'bar', color='#D2B48C')"
   ]
  },
  {
   "cell_type": "code",
   "execution_count": 14,
   "metadata": {},
   "outputs": [
    {
     "data": {
      "text/plain": [
       "<matplotlib.axes._subplots.AxesSubplot at 0x21597d9edd8>"
      ]
     },
     "execution_count": 14,
     "metadata": {},
     "output_type": "execute_result"
    },
    {
     "data": {
      "image/png": "[encoded data removed]",
      "text/plain": [
       "<Figure size 432x288 with 1 Axes>"
      ]
     },
     "metadata": {
      "needs_background": "light"
     },
     "output_type": "display_data"
    }
   ],
   "source": [
    "edu.groupby('performance').size().plot(kind = 'bar', color='#FFE4C4')"
   ]
  },
  {
   "cell_type": "code",
   "execution_count": 15,
   "metadata": {
    "scrolled": true
   },
   "outputs": [
    {
     "data": {
      "text/plain": [
       "<matplotlib.axes._subplots.AxesSubplot at 0x21597d328d0>"
      ]
     },
     "execution_count": 15,
     "metadata": {},
     "output_type": "execute_result"
    },
    {
     "data": {
      "image/png": "[encoded data removed]",
      "text/plain": [
       "<Figure size 432x288 with 1 Axes>"
      ]
     },
     "metadata": {
      "needs_background": "light"
     },
     "output_type": "display_data"
    }
   ],
   "source": [
    "yesplan = pd.DataFrame(edu[edu.plan == 'Да, планирую'])\n",
    "yesplan.groupby('salary').size().plot(kind = 'bar', color='#DEB887')"
   ]
  },
  {
   "cell_type": "code",
   "execution_count": 16,
   "metadata": {},
   "outputs": [],
   "source": [
    "edu['rrr'] = edu.been + edu.plan"
   ]
  },
  {
   "cell_type": "code",
   "execution_count": 17,
   "metadata": {},
   "outputs": [],
   "source": [
    "def FL(a):\n",
    "    if a == 'НетНет, не планирую':\n",
    "        return 0\n",
    "    elif a == 'НетДа, планирую':\n",
    "        return 1\n",
    "    elif a == 'Да, 1 семестрНет, не планирую':\n",
    "        return 2\n",
    "    elif a == 'Да, 1 семестрЗатрудняюсь ответить':\n",
    "        return 2\n",
    "    elif a == 'Да, дольше  (больше 2 семестров или обакалавриат, магистратура и т.д.)Да, планирую':\n",
    "        return 2\n",
    "    else:\n",
    "        return 3"
   ]
  },
  {
   "cell_type": "code",
   "execution_count": 18,
   "metadata": {},
   "outputs": [],
   "source": [
    "edu['hhh'] = edu.rrr.apply(FL)"
   ]
  },
  {
   "cell_type": "code",
   "execution_count": 19,
   "metadata": {},
   "outputs": [
    {
     "data": {
      "text/html": [
       "<div>\n",
       "<style scoped>\n",
       "    .dataframe tbody tr th:only-of-type {\n",
       "        vertical-align: middle;\n",
       "    }\n",
       "\n",
       "    .dataframe tbody tr th {\n",
       "        vertical-align: top;\n",
       "    }\n",
       "\n",
       "    .dataframe thead th {\n",
       "        text-align: right;\n",
       "    }\n",
       "</style>\n",
       "<table border=\"1\" class=\"dataframe\">\n",
       "  <thead>\n",
       "    <tr style=\"text-align: right;\">\n",
       "      <th></th>\n",
       "      <th>sex</th>\n",
       "      <th>year</th>\n",
       "      <th>eduсation</th>\n",
       "      <th>place</th>\n",
       "      <th>salary</th>\n",
       "      <th>mark</th>\n",
       "      <th>been</th>\n",
       "      <th>plan</th>\n",
       "      <th>language</th>\n",
       "      <th>quality</th>\n",
       "      <th>career</th>\n",
       "      <th>meeting</th>\n",
       "      <th>country</th>\n",
       "      <th>culture</th>\n",
       "      <th>personal</th>\n",
       "      <th>valuable</th>\n",
       "      <th>performance</th>\n",
       "      <th>rrr</th>\n",
       "      <th>hhh</th>\n",
       "    </tr>\n",
       "  </thead>\n",
       "  <tbody>\n",
       "    <tr>\n",
       "      <th>0</th>\n",
       "      <td>Мужской</td>\n",
       "      <td>2000</td>\n",
       "      <td>Высшее (студент)</td>\n",
       "      <td>Город (региональный центр, не миллионник)</td>\n",
       "      <td>от 60,001 до 70,000 рублей</td>\n",
       "      <td>Отлично</td>\n",
       "      <td>Нет</td>\n",
       "      <td>Да, планирую</td>\n",
       "      <td>5</td>\n",
       "      <td>7</td>\n",
       "      <td>6</td>\n",
       "      <td>1</td>\n",
       "      <td>3</td>\n",
       "      <td>4</td>\n",
       "      <td>2</td>\n",
       "      <td>Скорее нет, чем да</td>\n",
       "      <td>Улучшится</td>\n",
       "      <td>НетДа, планирую</td>\n",
       "      <td>1</td>\n",
       "    </tr>\n",
       "    <tr>\n",
       "      <th>1</th>\n",
       "      <td>Женский</td>\n",
       "      <td>2000</td>\n",
       "      <td>Средняя школа (10, сейчас 11 классов)</td>\n",
       "      <td>Город</td>\n",
       "      <td>от 100,001 до 150,000 рублей</td>\n",
       "      <td>Хорошо</td>\n",
       "      <td>Нет</td>\n",
       "      <td>Да, планирую</td>\n",
       "      <td>5</td>\n",
       "      <td>5</td>\n",
       "      <td>7</td>\n",
       "      <td>4</td>\n",
       "      <td>1</td>\n",
       "      <td>1</td>\n",
       "      <td>2</td>\n",
       "      <td>Скорее да, чем нет</td>\n",
       "      <td>Скорее улучшится</td>\n",
       "      <td>НетДа, планирую</td>\n",
       "      <td>1</td>\n",
       "    </tr>\n",
       "    <tr>\n",
       "      <th>2</th>\n",
       "      <td>Женский</td>\n",
       "      <td>2000</td>\n",
       "      <td>Средняя школа (10, сейчас 11 классов)</td>\n",
       "      <td>Город</td>\n",
       "      <td>от 40,001 до 50,000 рублей</td>\n",
       "      <td>Хорошо</td>\n",
       "      <td>Нет</td>\n",
       "      <td>Затрудняюсь ответить</td>\n",
       "      <td>5</td>\n",
       "      <td>2</td>\n",
       "      <td>6</td>\n",
       "      <td>4</td>\n",
       "      <td>6</td>\n",
       "      <td>6</td>\n",
       "      <td>7</td>\n",
       "      <td>Скорее да, чем нет</td>\n",
       "      <td>Не поменяется</td>\n",
       "      <td>НетЗатрудняюсь ответить</td>\n",
       "      <td>3</td>\n",
       "    </tr>\n",
       "    <tr>\n",
       "      <th>3</th>\n",
       "      <td>Женский</td>\n",
       "      <td>2001</td>\n",
       "      <td>Высшее (студент)</td>\n",
       "      <td>Село</td>\n",
       "      <td>от 100,001 до 150,000 рублей</td>\n",
       "      <td>В основном \"отлично\", иногда \"хорошо\"</td>\n",
       "      <td>Да, 1 семестр</td>\n",
       "      <td>Нет, не планирую</td>\n",
       "      <td>1</td>\n",
       "      <td>2</td>\n",
       "      <td>3</td>\n",
       "      <td>5</td>\n",
       "      <td>3</td>\n",
       "      <td>3</td>\n",
       "      <td>3</td>\n",
       "      <td>Скорее нет, чем да</td>\n",
       "      <td>Скорее улучшится</td>\n",
       "      <td>Да, 1 семестрНет, не планирую</td>\n",
       "      <td>2</td>\n",
       "    </tr>\n",
       "    <tr>\n",
       "      <th>4</th>\n",
       "      <td>Женский</td>\n",
       "      <td>2000</td>\n",
       "      <td>Высшее (студент)</td>\n",
       "      <td>Город (региональный центр, не миллионник)</td>\n",
       "      <td>от 25,001 до 30,000 рублей</td>\n",
       "      <td>Отлично</td>\n",
       "      <td>Нет</td>\n",
       "      <td>Затрудняюсь ответить</td>\n",
       "      <td>3</td>\n",
       "      <td>2</td>\n",
       "      <td>5</td>\n",
       "      <td>6</td>\n",
       "      <td>1</td>\n",
       "      <td>4</td>\n",
       "      <td>7</td>\n",
       "      <td>Да</td>\n",
       "      <td>Не поменяется</td>\n",
       "      <td>НетЗатрудняюсь ответить</td>\n",
       "      <td>3</td>\n",
       "    </tr>\n",
       "  </tbody>\n",
       "</table>\n",
       "</div>"
      ],
      "text/plain": [
       "       sex  year                              eduсation  \\\n",
       "0  Мужской  2000                       Высшее (студент)   \n",
       "1  Женский  2000  Средняя школа (10, сейчас 11 классов)   \n",
       "2  Женский  2000  Средняя школа (10, сейчас 11 классов)   \n",
       "3  Женский  2001                       Высшее (студент)   \n",
       "4  Женский  2000                       Высшее (студент)   \n",
       "\n",
       "                                       place                        salary  \\\n",
       "0  Город (региональный центр, не миллионник)    от 60,001 до 70,000 рублей   \n",
       "1                                      Город  от 100,001 до 150,000 рублей   \n",
       "2                                      Город    от 40,001 до 50,000 рублей   \n",
       "3                                       Село  от 100,001 до 150,000 рублей   \n",
       "4  Город (региональный центр, не миллионник)    от 25,001 до 30,000 рублей   \n",
       "\n",
       "                                    mark           been                  plan  \\\n",
       "0                                Отлично            Нет          Да, планирую   \n",
       "1                                 Хорошо            Нет          Да, планирую   \n",
       "2                                 Хорошо            Нет  Затрудняюсь ответить   \n",
       "3  В основном \"отлично\", иногда \"хорошо\"  Да, 1 семестр      Нет, не планирую   \n",
       "4                                Отлично            Нет  Затрудняюсь ответить   \n",
       "\n",
       "   language  quality  career  meeting  country  culture  personal  \\\n",
       "0         5        7       6        1        3        4         2   \n",
       "1         5        5       7        4        1        1         2   \n",
       "2         5        2       6        4        6        6         7   \n",
       "3         1        2       3        5        3        3         3   \n",
       "4         3        2       5        6        1        4         7   \n",
       "\n",
       "             valuable       performance                            rrr  hhh  \n",
       "0  Скорее нет, чем да         Улучшится                НетДа, планирую    1  \n",
       "1  Скорее да, чем нет  Скорее улучшится                НетДа, планирую    1  \n",
       "2  Скорее да, чем нет     Не поменяется        НетЗатрудняюсь ответить    3  \n",
       "3  Скорее нет, чем да  Скорее улучшится  Да, 1 семестрНет, не планирую    2  \n",
       "4                  Да     Не поменяется        НетЗатрудняюсь ответить    3  "
      ]
     },
     "execution_count": 19,
     "metadata": {},
     "output_type": "execute_result"
    }
   ],
   "source": [
    "edu.head()"
   ]
  },
  {
   "cell_type": "code",
   "execution_count": 20,
   "metadata": {},
   "outputs": [
    {
     "data": {
      "image/png": "[encoded data removed]",
      "text/plain": [
       "<Figure size 432x288 with 1 Axes>"
      ]
     },
     "metadata": {
      "needs_background": "light"
     },
     "output_type": "display_data"
    }
   ],
   "source": [
    "cult = pd.DataFrame({'culture': edu.groupby('hhh')['culture'].mean()})\n",
    "cult['fff'] = range(0, 4)\n",
    "fig, ax = plt.subplots()\n",
    "ax.bar(cult.fff, cult.culture, color='#BC8F8F')\n",
    "ax.set_ylim(0,7)\n",
    "ax.locator_params(integer=True)\n",
    "ax.spines['right'].set_visible(False) \n",
    "ax.spines['top'].set_visible(False)"
   ]
  },
  {
   "cell_type": "code",
   "execution_count": 21,
   "metadata": {},
   "outputs": [
    {
     "data": {
      "image/png": "[encoded data removed]",
      "text/plain": [
       "<Figure size 432x288 with 1 Axes>"
      ]
     },
     "metadata": {
      "needs_background": "light"
     },
     "output_type": "display_data"
    }
   ],
   "source": [
    "qual = pd.DataFrame({'quality': edu.groupby('hhh')['quality'].mean()}) \n",
    "qual['ddd'] = range(0, 4) \n",
    "fig, ax = plt.subplots() \n",
    "ax.bar(qual.ddd, qual.quality, color = '#FFE4E1') \n",
    "ax.set_ylim(0,7) \n",
    "ax.locator_params(integer=True) \n",
    "ax.spines['right'].set_visible(False) \n",
    "ax.spines['top'].set_visible(False)"
   ]
  },
  {
   "cell_type": "code",
   "execution_count": 22,
   "metadata": {},
   "outputs": [
    {
     "data": {
      "text/html": [
       "<div>\n",
       "<style scoped>\n",
       "    .dataframe tbody tr th:only-of-type {\n",
       "        vertical-align: middle;\n",
       "    }\n",
       "\n",
       "    .dataframe tbody tr th {\n",
       "        vertical-align: top;\n",
       "    }\n",
       "\n",
       "    .dataframe thead th {\n",
       "        text-align: right;\n",
       "    }\n",
       "</style>\n",
       "<table border=\"1\" class=\"dataframe\">\n",
       "  <thead>\n",
       "    <tr style=\"text-align: right;\">\n",
       "      <th></th>\n",
       "      <th>language</th>\n",
       "      <th>quality</th>\n",
       "      <th>career</th>\n",
       "      <th>meeting</th>\n",
       "      <th>country</th>\n",
       "      <th>culture</th>\n",
       "      <th>personal</th>\n",
       "    </tr>\n",
       "  </thead>\n",
       "  <tbody>\n",
       "    <tr>\n",
       "      <th>0</th>\n",
       "      <td>5</td>\n",
       "      <td>7</td>\n",
       "      <td>6</td>\n",
       "      <td>1</td>\n",
       "      <td>3</td>\n",
       "      <td>4</td>\n",
       "      <td>2</td>\n",
       "    </tr>\n",
       "    <tr>\n",
       "      <th>1</th>\n",
       "      <td>5</td>\n",
       "      <td>5</td>\n",
       "      <td>7</td>\n",
       "      <td>4</td>\n",
       "      <td>1</td>\n",
       "      <td>1</td>\n",
       "      <td>2</td>\n",
       "    </tr>\n",
       "    <tr>\n",
       "      <th>2</th>\n",
       "      <td>5</td>\n",
       "      <td>2</td>\n",
       "      <td>6</td>\n",
       "      <td>4</td>\n",
       "      <td>6</td>\n",
       "      <td>6</td>\n",
       "      <td>7</td>\n",
       "    </tr>\n",
       "    <tr>\n",
       "      <th>3</th>\n",
       "      <td>1</td>\n",
       "      <td>2</td>\n",
       "      <td>3</td>\n",
       "      <td>5</td>\n",
       "      <td>3</td>\n",
       "      <td>3</td>\n",
       "      <td>3</td>\n",
       "    </tr>\n",
       "    <tr>\n",
       "      <th>4</th>\n",
       "      <td>3</td>\n",
       "      <td>2</td>\n",
       "      <td>5</td>\n",
       "      <td>6</td>\n",
       "      <td>1</td>\n",
       "      <td>4</td>\n",
       "      <td>7</td>\n",
       "    </tr>\n",
       "  </tbody>\n",
       "</table>\n",
       "</div>"
      ],
      "text/plain": [
       "   language  quality  career  meeting  country  culture  personal\n",
       "0         5        7       6        1        3        4         2\n",
       "1         5        5       7        4        1        1         2\n",
       "2         5        2       6        4        6        6         7\n",
       "3         1        2       3        5        3        3         3\n",
       "4         3        2       5        6        1        4         7"
      ]
     },
     "execution_count": 22,
     "metadata": {},
     "output_type": "execute_result"
    }
   ],
   "source": [
    "edu_target = edu[['language', 'quality', 'career', 'meeting', 'country', 'culture',\n",
    "       'personal']]\n",
    "edu_target.head()"
   ]
  },
  {
   "cell_type": "code",
   "execution_count": 23,
   "metadata": {},
   "outputs": [],
   "source": [
    "edu_pivoted = pd.DataFrame(columns=['category', 'value'])"
   ]
  },
  {
   "cell_type": "code",
   "execution_count": 24,
   "metadata": {},
   "outputs": [],
   "source": [
    "for x in range(len(edu_target)):\n",
    "  for entry in edu_target.iloc[[x]]:\n",
    "    #print(entry)\n",
    "    #print(data_target.iloc[0][entry])\n",
    "    edu_pivoted = edu_pivoted.append({'category' : entry, 'value':edu_target.iloc[x][entry]}, ignore_index = True)"
   ]
  },
  {
   "cell_type": "code",
   "execution_count": 25,
   "metadata": {},
   "outputs": [
    {
     "data": {
      "text/html": [
       "<div>\n",
       "<style scoped>\n",
       "    .dataframe tbody tr th:only-of-type {\n",
       "        vertical-align: middle;\n",
       "    }\n",
       "\n",
       "    .dataframe tbody tr th {\n",
       "        vertical-align: top;\n",
       "    }\n",
       "\n",
       "    .dataframe thead th {\n",
       "        text-align: right;\n",
       "    }\n",
       "</style>\n",
       "<table border=\"1\" class=\"dataframe\">\n",
       "  <thead>\n",
       "    <tr style=\"text-align: right;\">\n",
       "      <th></th>\n",
       "      <th>category</th>\n",
       "      <th>value</th>\n",
       "    </tr>\n",
       "  </thead>\n",
       "  <tbody>\n",
       "    <tr>\n",
       "      <th>0</th>\n",
       "      <td>language</td>\n",
       "      <td>5</td>\n",
       "    </tr>\n",
       "    <tr>\n",
       "      <th>1</th>\n",
       "      <td>quality</td>\n",
       "      <td>7</td>\n",
       "    </tr>\n",
       "    <tr>\n",
       "      <th>2</th>\n",
       "      <td>career</td>\n",
       "      <td>6</td>\n",
       "    </tr>\n",
       "    <tr>\n",
       "      <th>3</th>\n",
       "      <td>meeting</td>\n",
       "      <td>1</td>\n",
       "    </tr>\n",
       "    <tr>\n",
       "      <th>4</th>\n",
       "      <td>country</td>\n",
       "      <td>3</td>\n",
       "    </tr>\n",
       "    <tr>\n",
       "      <th>5</th>\n",
       "      <td>culture</td>\n",
       "      <td>4</td>\n",
       "    </tr>\n",
       "    <tr>\n",
       "      <th>6</th>\n",
       "      <td>personal</td>\n",
       "      <td>2</td>\n",
       "    </tr>\n",
       "  </tbody>\n",
       "</table>\n",
       "</div>"
      ],
      "text/plain": [
       "   category value\n",
       "0  language     5\n",
       "1   quality     7\n",
       "2    career     6\n",
       "3   meeting     1\n",
       "4   country     3\n",
       "5   culture     4\n",
       "6  personal     2"
      ]
     },
     "execution_count": 25,
     "metadata": {},
     "output_type": "execute_result"
    }
   ],
   "source": [
    "edu_pivoted.head(7)"
   ]
  },
  {
   "cell_type": "code",
   "execution_count": 26,
   "metadata": {},
   "outputs": [],
   "source": [
    "edu_agg = pd.DataFrame(edu_pivoted.groupby('category')['value'].value_counts())"
   ]
  },
  {
   "cell_type": "code",
   "execution_count": 27,
   "metadata": {},
   "outputs": [
    {
     "data": {
      "text/html": [
       "<div>\n",
       "<style scoped>\n",
       "    .dataframe tbody tr th:only-of-type {\n",
       "        vertical-align: middle;\n",
       "    }\n",
       "\n",
       "    .dataframe tbody tr th {\n",
       "        vertical-align: top;\n",
       "    }\n",
       "\n",
       "    .dataframe thead th {\n",
       "        text-align: right;\n",
       "    }\n",
       "</style>\n",
       "<table border=\"1\" class=\"dataframe\">\n",
       "  <thead>\n",
       "    <tr style=\"text-align: right;\">\n",
       "      <th></th>\n",
       "      <th></th>\n",
       "      <th>value</th>\n",
       "    </tr>\n",
       "    <tr>\n",
       "      <th>category</th>\n",
       "      <th>value</th>\n",
       "      <th></th>\n",
       "    </tr>\n",
       "  </thead>\n",
       "  <tbody>\n",
       "    <tr>\n",
       "      <th rowspan=\"7\" valign=\"top\">career</th>\n",
       "      <th>7</th>\n",
       "      <td>40</td>\n",
       "    </tr>\n",
       "    <tr>\n",
       "      <th>6</th>\n",
       "      <td>35</td>\n",
       "    </tr>\n",
       "    <tr>\n",
       "      <th>3</th>\n",
       "      <td>23</td>\n",
       "    </tr>\n",
       "    <tr>\n",
       "      <th>1</th>\n",
       "      <td>17</td>\n",
       "    </tr>\n",
       "    <tr>\n",
       "      <th>4</th>\n",
       "      <td>17</td>\n",
       "    </tr>\n",
       "    <tr>\n",
       "      <th>5</th>\n",
       "      <td>17</td>\n",
       "    </tr>\n",
       "    <tr>\n",
       "      <th>2</th>\n",
       "      <td>14</td>\n",
       "    </tr>\n",
       "  </tbody>\n",
       "</table>\n",
       "</div>"
      ],
      "text/plain": [
       "                value\n",
       "category value       \n",
       "career   7         40\n",
       "         6         35\n",
       "         3         23\n",
       "         1         17\n",
       "         4         17\n",
       "         5         17\n",
       "         2         14"
      ]
     },
     "execution_count": 27,
     "metadata": {},
     "output_type": "execute_result"
    }
   ],
   "source": [
    "edu_agg.head(7)"
   ]
  },
  {
   "cell_type": "code",
   "execution_count": 30,
   "metadata": {},
   "outputs": [
    {
     "data": {
      "text/plain": [
       "<matplotlib.axes._subplots.AxesSubplot at 0x21597b02400>"
      ]
     },
     "execution_count": 30,
     "metadata": {},
     "output_type": "execute_result"
    },
    {
     "data": {
      "image/png": "[encoded data removed]",
      "text/plain": [
       "<Figure size 5040x1440 with 1 Axes>"
      ]
     },
     "metadata": {
      "needs_background": "light"
     },
     "output_type": "display_data"
    }
   ],
   "source": [
    "import matplotlib.pyplot as plt\n",
    "fig, ax = plt.subplots(1,1, figsize=(70, 20))\n",
    "sns.swarmplot(edu_pivoted.category, edu_pivoted.value, alpha = 0.5)\n"
   ]
  },
  {
   "cell_type": "code",
   "execution_count": null,
   "metadata": {},
   "outputs": [],
   "source": []
  }
 ],
 "metadata": {
  "colab": {
   "collapsed_sections": [],
   "name": "POS_HW4.ipynb",
   "provenance": [],
   "version": "0.3.2"
  },
  "kernelspec": {
   "display_name": "Python 3",
   "language": "python",
   "name": "python3"
  },
  "language_info": {
   "codemirror_mode": {
    "name": "ipython",
    "version": 3
   },
   "file_extension": ".py",
   "mimetype": "text/x-python",
   "name": "python",
   "nbconvert_exporter": "python",
   "pygments_lexer": "ipython3",
   "version": "3.7.3"
  }
 },
 "nbformat": 4,
 "nbformat_minor": 2
}
